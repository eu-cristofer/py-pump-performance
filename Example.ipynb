{
 "cells": [
  {
   "cell_type": "code",
   "execution_count": 1,
   "id": "757e1c18",
   "metadata": {},
   "outputs": [],
   "source": [
    "import pump_performance as Performance\n",
    "import matplotlib.pyplot as plt"
   ]
  },
  {
   "cell_type": "markdown",
   "id": "47aef741",
   "metadata": {},
   "source": [
    "## Instantiate rated point"
   ]
  },
  {
   "cell_type": "code",
   "execution_count": 2,
   "id": "3206d651",
   "metadata": {},
   "outputs": [],
   "source": [
    "pump = Performance.Pump()"
   ]
  },
  {
   "cell_type": "code",
   "execution_count": 3,
   "id": "d65af048",
   "metadata": {},
   "outputs": [],
   "source": [
    "pump.Tag = \"B-171\""
   ]
  },
  {
   "cell_type": "code",
   "execution_count": 4,
   "id": "82f51241",
   "metadata": {},
   "outputs": [
    {
     "data": {
      "text/plain": [
       "Pump TAG: B-171"
      ]
     },
     "execution_count": 4,
     "metadata": {},
     "output_type": "execute_result"
    }
   ],
   "source": [
    "pump"
   ]
  },
  {
   "cell_type": "code",
   "execution_count": 5,
   "id": "9f7ad012",
   "metadata": {},
   "outputs": [
    {
     "data": {
      "text/plain": [
       "'Please add the Pump Inlet and Outlet diameters'"
      ]
     },
     "execution_count": 5,
     "metadata": {},
     "output_type": "execute_result"
    }
   ],
   "source": [
    "pump.Update()"
   ]
  },
  {
   "cell_type": "code",
   "execution_count": 6,
   "id": "57a7bc0b",
   "metadata": {},
   "outputs": [],
   "source": [
    "# add it in meters\n",
    "pump.NozzlesSize(0.0254 * 8, 0.0254 * 6)"
   ]
  },
  {
   "cell_type": "code",
   "execution_count": 7,
   "id": "3c8af01e",
   "metadata": {},
   "outputs": [
    {
     "data": {
      "text/plain": [
       "(0.03242927866223985, 0.018241469247509915)"
      ]
     },
     "execution_count": 7,
     "metadata": {},
     "output_type": "execute_result"
    }
   ],
   "source": [
    "pump.A0, pump.A3"
   ]
  },
  {
   "cell_type": "code",
   "execution_count": 8,
   "id": "3999046c",
   "metadata": {},
   "outputs": [
    {
     "data": {
      "text/plain": [
       "'You shall first create a Rated point'"
      ]
     },
     "execution_count": 8,
     "metadata": {},
     "output_type": "execute_result"
    }
   ],
   "source": [
    "pump.RatedPoint"
   ]
  },
  {
   "cell_type": "code",
   "execution_count": 9,
   "id": "4dfeee28",
   "metadata": {},
   "outputs": [],
   "source": [
    "pump.AddRatedPoint(50,500)"
   ]
  },
  {
   "cell_type": "code",
   "execution_count": 10,
   "id": "d0e6cb8c",
   "metadata": {},
   "outputs": [
    {
     "data": {
      "text/plain": [
       "Rated point [Flowrate: 500.0]"
      ]
     },
     "execution_count": 10,
     "metadata": {},
     "output_type": "execute_result"
    }
   ],
   "source": [
    "pump.RatedPoint"
   ]
  },
  {
   "cell_type": "code",
   "execution_count": 11,
   "id": "bf96a1d8",
   "metadata": {},
   "outputs": [],
   "source": [
    "pump.AddTestPoint(50,23,26)\n",
    "pump.AddTestPoint(55,23,20)\n",
    "pump.AddTestPoint(70,23,10)"
   ]
  },
  {
   "cell_type": "code",
   "execution_count": 12,
   "id": "09847dd2",
   "metadata": {},
   "outputs": [
    {
     "data": {
      "text/plain": [
       "[Test point #0 [Flowrate: 50.0],\n",
       " Test point #1 [Flowrate: 55.0],\n",
       " Test point #2 [Flowrate: 70.0]]"
      ]
     },
     "execution_count": 12,
     "metadata": {},
     "output_type": "execute_result"
    }
   ],
   "source": [
    "pump.TestPoints"
   ]
  },
  {
   "cell_type": "code",
   "execution_count": 14,
   "id": "45d0d122",
   "metadata": {},
   "outputs": [],
   "source": [
    "# Rascunho de função para plotar\n",
    "\n",
    "def Plot(obj):\n",
    "    plt.figure(figsize=(6, 9))\n",
    "    \n",
    "    \n",
    "    # Head and Power\n",
    "    plt.subplot(211)\n",
    "    plt.title(\"Performance - %s\" % obj.Tag)\n",
    "    plt.ylabel('Head [m]')\n",
    "    \n",
    "    # Rated point\n",
    "    plt.scatter(obj.RatedPoint.Flow,\n",
    "                obj.RatedPoint.Head,\n",
    "                c='Red',\n",
    "                marker = 'x')\n",
    "    \n",
    "    # Test points\n",
    "    FlowPoints = [point.Flow for point in obj.TestPoints]\n",
    "    HeadPoints = FlowPoints\n",
    "    plt.scatter(FlowPoints,\n",
    "                HeadPoints)\n",
    "    \n",
    "    plt.grid()\n",
    "\n",
    "    \n",
    "    # Efficiency and NPSH\n",
    "    plt.subplot(212)\n",
    "    plt.xlabel('Flowrate [m^3/h]')\n",
    "    plt.ylabel('Efficiency')\n",
    "    plt.scatter(obj.RatedPoint.Flow,\n",
    "                obj.RatedPoint.Head,\n",
    "                c='Red',\n",
    "                marker = 'x')\n",
    "    plt.grid()\n",
    "    \n",
    "\n"
   ]
  },
  {
   "cell_type": "code",
   "execution_count": 15,
   "id": "88118d2c",
   "metadata": {},
   "outputs": [
    {
     "data": {
      "image/png": "[encoded data removed]",
      "text/plain": [
       "<Figure size 432x648 with 2 Axes>"
      ]
     },
     "metadata": {
      "needs_background": "light"
     },
     "output_type": "display_data"
    }
   ],
   "source": [
    "Plot(pump)"
   ]
  }
 ],
 "metadata": {
  "kernelspec": {
   "display_name": "Python 3",
   "language": "python",
   "name": "python3"
  },
  "language_info": {
   "codemirror_mode": {
    "name": "ipython",
    "version": 3
   },
   "file_extension": ".py",
   "mimetype": "text/x-python",
   "name": "python",
   "nbconvert_exporter": "python",
   "pygments_lexer": "ipython3",
   "version": "3.8.8"
  }
 },
 "nbformat": 4,
 "nbformat_minor": 5
}
