{
 "cells": [
  {
   "cell_type": "code",
   "execution_count": 149,
   "id": "a312b852",
   "metadata": {},
   "outputs": [],
   "source": [
    "class Point:\n",
    "    \n",
    "    def __init__(self):\n",
    "        self._Head = None\n",
    "        self._Flow = None\n",
    "        self._P3 = None\n",
    "        self._P0 = None\n",
    "        self._Temp = None\n",
    "        self._HydPower = None\n",
    "        self._NPSH3 = None\n",
    "        self._Rho = None\n",
    "        self._DinVisc = None\n",
    "        self._Speed = None\n",
    "        self._U0 = None\n",
    "        self._U3 = None\n",
    "        self._DriverPower = None\n",
    "        self._Efficiency = None\n",
    "        \n",
    "    @property\n",
    "    def Head(self):\n",
    "        \"\"\"Get the total head in meters\"\"\"\n",
    "        return self._Head\n",
    "        \n",
    "    @Head.setter\n",
    "    def Head(self, value):\n",
    "        self._Head = float(value)\n",
    "    \n",
    "    @property\n",
    "    def Flow(self):\n",
    "        \"\"\"Get the volumetric flowrate in cubic meters\"\"\"\n",
    "        return self._Flow\n",
    "        \n",
    "    @Flow.setter\n",
    "    def Flow(self, value):\n",
    "        self._Flow = float(value)\n",
    "        \n",
    "    @property\n",
    "    def P3(self):\n",
    "        \"\"\"Get the outlet pressure in kgf/cm^2\"\"\"\n",
    "        return self._P3\n",
    "        \n",
    "    @P3.setter\n",
    "    def P3(self, value):\n",
    "        self._P3 = float(value)\n",
    "    \n",
    "    @property\n",
    "    def P0(self):\n",
    "        \"\"\"Get the inlet pressure in kgf/cm^2\"\"\"\n",
    "        return self._P0\n",
    "        \n",
    "    @P0.setter\n",
    "    def P0(self, value):\n",
    "        self._P0 = float(value)\n",
    "        \n",
    "   \n",
    "        \n",
    "class RatedPoint(Point):\n",
    "    \n",
    "    def __init__(self, Head, Flow):\n",
    "        super().__init__()\n",
    "        self.Head = Head\n",
    "        self.Flow = Flow\n",
    "        \n",
    "    def __repr__(self):\n",
    "        return self.Name + ' (Head: %r, Flow: %r)' % (self.Head, self.Flow)\n",
    "\n",
    "    \n",
    "\n",
    "class Pump:\n",
    "    \n",
    "    def __init__(self, Tag=\"B-0001\"):\n",
    "        self.__Tag = Tag\n",
    "        \n",
    "    def AddRatedPoint(self, Head=0,Flow=0):\n",
    "        self.RatedPoint = RatedPoint(Head, Flow)"
   ]
  },
  {
   "cell_type": "code",
   "execution_count": 147,
   "id": "708a5187",
   "metadata": {},
   "outputs": [],
   "source": [
    "point = RatedPoint(50, 50)"
   ]
  },
  {
   "cell_type": "code",
   "execution_count": 148,
   "id": "5ef157da",
   "metadata": {},
   "outputs": [
    {
     "data": {
      "text/plain": [
       "50.0"
      ]
     },
     "execution_count": 148,
     "metadata": {},
     "output_type": "execute_result"
    }
   ],
   "source": [
    "point.Flow"
   ]
  },
  {
   "cell_type": "code",
   "execution_count": null,
   "id": "7163217e",
   "metadata": {},
   "outputs": [],
   "source": []
  }
 ],
 "metadata": {
  "kernelspec": {
   "display_name": "Python 3",
   "language": "python",
   "name": "python3"
  },
  "language_info": {
   "codemirror_mode": {
    "name": "ipython",
    "version": 3
   },
   "file_extension": ".py",
   "mimetype": "text/x-python",
   "name": "python",
   "nbconvert_exporter": "python",
   "pygments_lexer": "ipython3",
   "version": "3.8.8"
  }
 },
 "nbformat": 4,
 "nbformat_minor": 5
}
