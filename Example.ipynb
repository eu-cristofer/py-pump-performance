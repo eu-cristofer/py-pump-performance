{
 "cells": [
  {
   "cell_type": "code",
   "execution_count": 1,
   "id": "757e1c18",
   "metadata": {},
   "outputs": [],
   "source": [
    "import pump_performance as Performance"
   ]
  },
  {
   "cell_type": "markdown",
   "id": "47aef741",
   "metadata": {},
   "source": [
    "## Instantiate rated point"
   ]
  },
  {
   "cell_type": "code",
   "execution_count": 2,
   "id": "3206d651",
   "metadata": {},
   "outputs": [],
   "source": [
    "pump = Performance.Pump()"
   ]
  },
  {
   "cell_type": "code",
   "execution_count": 3,
   "id": "ea0d2337",
   "metadata": {},
   "outputs": [
    {
     "data": {
      "text/plain": [
       "0"
      ]
     },
     "execution_count": 3,
     "metadata": {},
     "output_type": "execute_result"
    }
   ],
   "source": [
    "pump.TestPointsCount"
   ]
  },
  {
   "cell_type": "code",
   "execution_count": 4,
   "id": "8b492200",
   "metadata": {},
   "outputs": [
    {
     "data": {
      "text/plain": [
       "[]"
      ]
     },
     "execution_count": 4,
     "metadata": {},
     "output_type": "execute_result"
    }
   ],
   "source": [
    "pump.TestPoints"
   ]
  },
  {
   "cell_type": "code",
   "execution_count": 5,
   "id": "57a7bc0b",
   "metadata": {},
   "outputs": [
    {
     "data": {
      "text/plain": [
       "'Generic'"
      ]
     },
     "execution_count": 5,
     "metadata": {},
     "output_type": "execute_result"
    }
   ],
   "source": [
    "pump.Tag"
   ]
  },
  {
   "cell_type": "code",
   "execution_count": 6,
   "id": "d65af048",
   "metadata": {},
   "outputs": [],
   "source": [
    "pump.Tag = \"B-171\""
   ]
  },
  {
   "cell_type": "code",
   "execution_count": 7,
   "id": "82f51241",
   "metadata": {},
   "outputs": [
    {
     "data": {
      "text/plain": [
       "Pump Tag: B-171"
      ]
     },
     "execution_count": 7,
     "metadata": {},
     "output_type": "execute_result"
    }
   ],
   "source": [
    "pump"
   ]
  },
  {
   "cell_type": "code",
   "execution_count": 8,
   "id": "3999046c",
   "metadata": {},
   "outputs": [
    {
     "data": {
      "text/plain": [
       "'You shall first create a Rated point'"
      ]
     },
     "execution_count": 8,
     "metadata": {},
     "output_type": "execute_result"
    }
   ],
   "source": [
    "pump.RatedPoint"
   ]
  },
  {
   "cell_type": "code",
   "execution_count": 9,
   "id": "4dfeee28",
   "metadata": {},
   "outputs": [],
   "source": [
    "pump.AddRatedPoint(50,50)"
   ]
  },
  {
   "cell_type": "code",
   "execution_count": 10,
   "id": "d0e6cb8c",
   "metadata": {},
   "outputs": [
    {
     "data": {
      "text/plain": [
       "Rated point (Flowrate: 50.0)"
      ]
     },
     "execution_count": 10,
     "metadata": {},
     "output_type": "execute_result"
    }
   ],
   "source": [
    "pump.RatedPoint"
   ]
  },
  {
   "cell_type": "code",
   "execution_count": 11,
   "id": "f2971cf5",
   "metadata": {},
   "outputs": [
    {
     "data": {
      "text/plain": [
       "50.0"
      ]
     },
     "execution_count": 11,
     "metadata": {},
     "output_type": "execute_result"
    }
   ],
   "source": [
    "pump.RatedPoint.Flow"
   ]
  },
  {
   "cell_type": "code",
   "execution_count": 12,
   "id": "161c024d",
   "metadata": {},
   "outputs": [
    {
     "data": {
      "text/plain": [
       "50.0"
      ]
     },
     "execution_count": 12,
     "metadata": {},
     "output_type": "execute_result"
    }
   ],
   "source": [
    "pump.RatedPoint.Head"
   ]
  },
  {
   "cell_type": "code",
   "execution_count": 18,
   "id": "bf96a1d8",
   "metadata": {},
   "outputs": [],
   "source": [
    "pump.AddTestPoint(50,23,26)"
   ]
  },
  {
   "cell_type": "code",
   "execution_count": 20,
   "id": "09847dd2",
   "metadata": {},
   "outputs": [
    {
     "data": {
      "text/plain": [
       "'Test point 0'"
      ]
     },
     "execution_count": 20,
     "metadata": {},
     "output_type": "execute_result"
    }
   ],
   "source": [
    "pump.TestPoints[0].Name"
   ]
  },
  {
   "cell_type": "code",
   "execution_count": null,
   "id": "4bfaccf1",
   "metadata": {},
   "outputs": [],
   "source": []
  }
 ],
 "metadata": {
  "kernelspec": {
   "display_name": "Python 3",
   "language": "python",
   "name": "python3"
  },
  "language_info": {
   "codemirror_mode": {
    "name": "ipython",
    "version": 3
   },
   "file_extension": ".py",
   "mimetype": "text/x-python",
   "name": "python",
   "nbconvert_exporter": "python",
   "pygments_lexer": "ipython3",
   "version": "3.8.8"
  }
 },
 "nbformat": 4,
 "nbformat_minor": 5
}
