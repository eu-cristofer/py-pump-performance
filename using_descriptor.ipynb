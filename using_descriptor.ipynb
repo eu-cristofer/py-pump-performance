{
 "cells": [
  {
   "cell_type": "code",
   "execution_count": 1,
   "id": "10295b70",
   "metadata": {},
   "outputs": [],
   "source": [
    "from weakref import WeakKeyDictionary\n",
    "\n",
    "class NonNegative(object):\n",
    "    \"\"\"A descriptor that forbids negative values\"\"\"\n",
    "    def __init__(self, default):\n",
    "        self.default = default\n",
    "        self.data = WeakKeyDictionary()\n",
    "        \n",
    "    def __get__(self, instance, owner):\n",
    "        # we get here when someone calls x.d, and d is a NonNegative instance\n",
    "        # instance = x\n",
    "        # owner = type(x)\n",
    "        return self.data.get(instance, self.default)\n",
    "    \n",
    "    def __set__(self, instance, value):\n",
    "        # we get here when someone calls x.d = val, and d is a NonNegative instance\n",
    "        # instance = x\n",
    "        # value = val\n",
    "        if value < 0:\n",
    "            raise ValueError(\"Negative value not allowed: %s\" % value)\n",
    "        self.data[instance] = value"
   ]
  },
  {
   "cell_type": "code",
   "execution_count": 6,
   "id": "f8f8af8e",
   "metadata": {},
   "outputs": [],
   "source": [
    "class Movie(object):\n",
    "    \n",
    "    #always put descriptors at the class-level\n",
    "    rating = NonNegative(90)\n",
    "    runtime = NonNegative(0)\n",
    "    budget = NonNegative(0)\n",
    "    gross = NonNegative(0)"
   ]
  },
  {
   "cell_type": "code",
   "execution_count": 7,
   "id": "db4a05ce",
   "metadata": {},
   "outputs": [],
   "source": [
    "fil = Movie()"
   ]
  },
  {
   "cell_type": "code",
   "execution_count": 8,
   "id": "908248af",
   "metadata": {},
   "outputs": [
    {
     "data": {
      "text/plain": [
       "90"
      ]
     },
     "execution_count": 8,
     "metadata": {},
     "output_type": "execute_result"
    }
   ],
   "source": [
    "fil.rating"
   ]
  },
  {
   "cell_type": "code",
   "execution_count": null,
   "id": "f2da4a41",
   "metadata": {},
   "outputs": [],
   "source": []
  }
 ],
 "metadata": {
  "kernelspec": {
   "display_name": "Python 3",
   "language": "python",
   "name": "python3"
  },
  "language_info": {
   "codemirror_mode": {
    "name": "ipython",
    "version": 3
   },
   "file_extension": ".py",
   "mimetype": "text/x-python",
   "name": "python",
   "nbconvert_exporter": "python",
   "pygments_lexer": "ipython3",
   "version": "3.8.8"
  }
 },
 "nbformat": 4,
 "nbformat_minor": 5
}
